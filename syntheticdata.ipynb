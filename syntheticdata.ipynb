{
 "cells": [
  {
   "cell_type": "code",
   "execution_count": 2,
   "metadata": {},
   "outputs": [],
   "source": [
    "\n",
    "import os\n",
    "import random\n",
    "import matplotlib.pyplot as plt\n",
    "import matplotlib.animation as animation\n",
    "import numpy as np\n",
    "from IPython.display import HTML\n",
    "\n",
    "\n",
    "import torch\n",
    "import torch.nn as nn\n",
    "import torch.utils.data as data\n",
    "import torchvision.transforms as transforms\n",
    "import torchvision.utils as vutils\n",
    "from torch.optim import Adam\n",
    "import torchvision.datasets as dsets\n",
    "\n",
    "\n",
    "import torchgan\n",
    "from torchgan.models import *\n",
    "from torchgan.losses import *\n",
    "from torchgan.trainer import Trainer\n",
    "import pandas as pd\n",
    "import torch\n",
    "import os\n",
    "import random\n",
    "import matplotlib.pyplot as plt\n",
    "import numpy as np\n",
    "import torch\n",
    "import torch.nn as nn\n",
    "import torch.utils.data as data\n",
    "import torch.optim as optim\n",
    "from torchgan.models import DCGANGenerator, DCGANDiscriminator\n",
    "from torchgan.losses import LeastSquaresGeneratorLoss, LeastSquaresDiscriminatorLoss\n",
    "from torchgan.trainer import Trainer\n",
    "import pandas as pd\n",
    "from sklearn.preprocessing import StandardScaler\n",
    "from torch.utils.data import Dataset\n"
   ]
  },
  {
   "cell_type": "code",
   "execution_count": 3,
   "metadata": {},
   "outputs": [],
   "source": [
    "class NFUQNIDS(Dataset):\n",
    "    def __init__(self, data_file, transform=None, target_transform=None):\n",
    "        self.data = pd.read_csv(data_file)\n",
    "        self.labels = self.data['Label']\n",
    "        self.data = self.data.drop({'Label', 'Attack', 'Dataset'}, axis=1)\n",
    "        self.data = self.data.values\n",
    "\n",
    "        # Standardize the features\n",
    "        scaler = StandardScaler()\n",
    "        self.data = scaler.fit_transform(self.data)\n",
    "\n",
    "        self.transform = transform\n",
    "        self.target_transform = target_transform\n",
    "\n",
    "    def __len__(self):\n",
    "        return len(self.labels)\n",
    "\n",
    "    def __getitem__(self, idx):\n",
    "        item = self.data[idx]\n",
    "        label = self.labels.iloc[idx]\n",
    "\n",
    "        if self.transform:\n",
    "            item = self.transform(item)\n",
    "\n",
    "        if self.target_transform:\n",
    "            label = self.target_transform(label)\n",
    "\n",
    "        # Return data in the format expected by TorchGAN\n",
    "        return {'data': torch.tensor(item, dtype=torch.float32),\n",
    "                'label': torch.tensor(label, dtype=torch.float32)}"
   ]
  },
  {
   "cell_type": "code",
   "execution_count": 4,
   "metadata": {},
   "outputs": [],
   "source": [
    "\n",
    "data_file = 'data/cleaned/NF-UQ-NIDS-CLEANED.csv'\n",
    "epochs = 10\n",
    "device = torch.device(\"cuda:0\" if torch.cuda.is_available() else \"cpu\")\n",
    "\n",
    "transform = None  "
   ]
  },
  {
   "cell_type": "code",
   "execution_count": 5,
   "metadata": {},
   "outputs": [],
   "source": [
    "\n",
    "nfu_dataset = NFUQNIDS(data_file=data_file, transform=transform)\n"
   ]
  },
  {
   "cell_type": "code",
   "execution_count": 6,
   "metadata": {},
   "outputs": [],
   "source": [
    "\n",
    "dcgan_network = {\n",
    "    \"generator\": {\n",
    "        \"name\": DCGANGenerator,\n",
    "        \"args\": {\n",
    "            \"encoding_dims\": 100,\n",
    "            \"out_channels\": 1,\n",
    "            \"step_channels\": 32,\n",
    "            \"nonlinearity\": torch.nn.LeakyReLU(0.2),\n",
    "            \"last_nonlinearity\": torch.nn.Tanh(),\n",
    "        },\n",
    "        \"optimizer\": {\"name\": torch.optim.Adam, \"args\": {\"lr\": 0.0001, \"betas\": (0.5, 0.999)}},\n",
    "    },\n",
    "    \"discriminator\": {\n",
    "        \"name\": DCGANDiscriminator,\n",
    "        \"args\": {\n",
    "            \"in_channels\": 1,\n",
    "            \"step_channels\": 32,\n",
    "            \"nonlinearity\": torch.nn.LeakyReLU(0.2),\n",
    "            \"last_nonlinearity\": torch.nn.LeakyReLU(0.2),\n",
    "        },\n",
    "        \"optimizer\": {\"name\": torch.optim.Adam, \"args\": {\"lr\": 0.0003, \"betas\": (0.5, 0.999)}},\n",
    "    },\n",
    "}"
   ]
  },
  {
   "cell_type": "code",
   "execution_count": 7,
   "metadata": {},
   "outputs": [],
   "source": [
    "\n",
    "lsgan_losses = [LeastSquaresGeneratorLoss(), LeastSquaresDiscriminatorLoss()]\n"
   ]
  },
  {
   "cell_type": "code",
   "execution_count": 8,
   "metadata": {},
   "outputs": [
    {
     "name": "stdout",
     "output_type": "stream",
     "text": [
      "Device: cuda:0\n",
      "Epochs: 10\n"
     ]
    }
   ],
   "source": [
    "if torch.cuda.is_available():\n",
    "    device = torch.device(\"cuda:0\")\n",
    "    torch.backends.cudnn.deterministic = True\n",
    "    epochs = 10\n",
    "else:\n",
    "    device = torch.device(\"cpu\")\n",
    "    epochs = 5\n",
    "\n",
    "print(\"Device: {}\".format(device))\n",
    "print(\"Epochs: {}\".format(epochs))"
   ]
  },
  {
   "cell_type": "code",
   "execution_count": 9,
   "metadata": {},
   "outputs": [
    {
     "ename": "AttributeError",
     "evalue": "'str' object has no attribute 'size'",
     "output_type": "error",
     "traceback": [
      "\u001b[1;31m---------------------------------------------------------------------------\u001b[0m",
      "\u001b[1;31mAttributeError\u001b[0m                            Traceback (most recent call last)",
      "\u001b[1;32mc:\\Users\\shrey\\OneDrive\\Desktop\\475fin\\CPTS-475-Final-Project\\syntheticdata.ipynb Cell 8\u001b[0m line \u001b[0;36m1\n\u001b[0;32m      <a href='vscode-notebook-cell:/c%3A/Users/shrey/OneDrive/Desktop/475fin/CPTS-475-Final-Project/syntheticdata.ipynb#X11sZmlsZQ%3D%3D?line=8'>9</a>\u001b[0m \u001b[39mfor\u001b[39;00m epoch \u001b[39min\u001b[39;00m \u001b[39mrange\u001b[39m(epochs):\n\u001b[0;32m     <a href='vscode-notebook-cell:/c%3A/Users/shrey/OneDrive/Desktop/475fin/CPTS-475-Final-Project/syntheticdata.ipynb#X11sZmlsZQ%3D%3D?line=9'>10</a>\u001b[0m     \u001b[39mfor\u001b[39;00m real_batch \u001b[39min\u001b[39;00m dataloader:\n\u001b[0;32m     <a href='vscode-notebook-cell:/c%3A/Users/shrey/OneDrive/Desktop/475fin/CPTS-475-Final-Project/syntheticdata.ipynb#X11sZmlsZQ%3D%3D?line=10'>11</a>\u001b[0m         \u001b[39m# Training the GAN\u001b[39;00m\n\u001b[1;32m---> <a href='vscode-notebook-cell:/c%3A/Users/shrey/OneDrive/Desktop/475fin/CPTS-475-Final-Project/syntheticdata.ipynb#X11sZmlsZQ%3D%3D?line=11'>12</a>\u001b[0m         trainer\u001b[39m.\u001b[39;49mtrain(real_batch)\n\u001b[0;32m     <a href='vscode-notebook-cell:/c%3A/Users/shrey/OneDrive/Desktop/475fin/CPTS-475-Final-Project/syntheticdata.ipynb#X11sZmlsZQ%3D%3D?line=13'>14</a>\u001b[0m     \u001b[39m# Print some information at the end of each epoch\u001b[39;00m\n\u001b[0;32m     <a href='vscode-notebook-cell:/c%3A/Users/shrey/OneDrive/Desktop/475fin/CPTS-475-Final-Project/syntheticdata.ipynb#X11sZmlsZQ%3D%3D?line=14'>15</a>\u001b[0m     trainer\u001b[39m.\u001b[39mend_epoch_hook()\n",
      "File \u001b[1;32mc:\\Users\\shrey\\anaconda3\\envs\\torch4\\Lib\\site-packages\\torchgan\\trainer\\base_trainer.py:438\u001b[0m, in \u001b[0;36mBaseTrainer.train\u001b[1;34m(self, data_loader, **kwargs)\u001b[0m\n\u001b[0;32m    435\u001b[0m \u001b[39melse\u001b[39;00m:\n\u001b[0;32m    436\u001b[0m     \u001b[39mself\u001b[39m\u001b[39m.\u001b[39mreal_inputs \u001b[39m=\u001b[39m data\n\u001b[1;32m--> 438\u001b[0m lgen, ldis, gen_iter, dis_iter \u001b[39m=\u001b[39m \u001b[39mself\u001b[39;49m\u001b[39m.\u001b[39;49mtrain_iter()\n\u001b[0;32m    439\u001b[0m \u001b[39mself\u001b[39m\u001b[39m.\u001b[39mloss_information[\u001b[39m\"\u001b[39m\u001b[39mgenerator_losses\u001b[39m\u001b[39m\"\u001b[39m] \u001b[39m+\u001b[39m\u001b[39m=\u001b[39m lgen\n\u001b[0;32m    440\u001b[0m \u001b[39mself\u001b[39m\u001b[39m.\u001b[39mloss_information[\u001b[39m\"\u001b[39m\u001b[39mdiscriminator_losses\u001b[39m\u001b[39m\"\u001b[39m] \u001b[39m+\u001b[39m\u001b[39m=\u001b[39m ldis\n",
      "File \u001b[1;32mc:\\Users\\shrey\\anaconda3\\envs\\torch4\\Lib\\site-packages\\torchgan\\trainer\\base_trainer.py:367\u001b[0m, in \u001b[0;36mBaseTrainer.train_iter\u001b[1;34m(self)\u001b[0m\n\u001b[0;32m    365\u001b[0m \u001b[39melif\u001b[39;00m \u001b[39misinstance\u001b[39m(loss, DiscriminatorLoss):\n\u001b[0;32m    366\u001b[0m     \u001b[39mif\u001b[39;00m \u001b[39mself\u001b[39m\u001b[39m.\u001b[39mloss_information[\u001b[39m\"\u001b[39m\u001b[39mgenerator_iters\u001b[39m\u001b[39m\"\u001b[39m] \u001b[39m%\u001b[39m \u001b[39mself\u001b[39m\u001b[39m.\u001b[39mngen \u001b[39m==\u001b[39m \u001b[39m0\u001b[39m:\n\u001b[1;32m--> 367\u001b[0m         cur_loss \u001b[39m=\u001b[39m loss\u001b[39m.\u001b[39;49mtrain_ops(\n\u001b[0;32m    368\u001b[0m             \u001b[39m*\u001b[39;49m\u001b[39m*\u001b[39;49m\u001b[39mself\u001b[39;49m\u001b[39m.\u001b[39;49m_get_arguments(\u001b[39mself\u001b[39;49m\u001b[39m.\u001b[39;49mloss_arg_maps[name])\n\u001b[0;32m    369\u001b[0m         )\n\u001b[0;32m    370\u001b[0m         loss_logs\u001b[39m.\u001b[39mlogs[name]\u001b[39m.\u001b[39mappend(cur_loss)\n\u001b[0;32m    371\u001b[0m         ldis, dis_iter \u001b[39m=\u001b[39m ldis \u001b[39m+\u001b[39m cur_loss, dis_iter \u001b[39m+\u001b[39m \u001b[39m1\u001b[39m\n",
      "File \u001b[1;32mc:\\Users\\shrey\\anaconda3\\envs\\torch4\\Lib\\site-packages\\torchgan\\losses\\loss.py:203\u001b[0m, in \u001b[0;36mDiscriminatorLoss.train_ops\u001b[1;34m(self, generator, discriminator, optimizer_discriminator, real_inputs, device, labels)\u001b[0m\n\u001b[0;32m    198\u001b[0m \u001b[39mif\u001b[39;00m labels \u001b[39mis\u001b[39;00m \u001b[39mNone\u001b[39;00m \u001b[39mand\u001b[39;00m (\n\u001b[0;32m    199\u001b[0m     generator\u001b[39m.\u001b[39mlabel_type \u001b[39m==\u001b[39m \u001b[39m\"\u001b[39m\u001b[39mrequired\u001b[39m\u001b[39m\"\u001b[39m\n\u001b[0;32m    200\u001b[0m     \u001b[39mor\u001b[39;00m discriminator\u001b[39m.\u001b[39mlabel_type \u001b[39m==\u001b[39m \u001b[39m\"\u001b[39m\u001b[39mrequired\u001b[39m\u001b[39m\"\u001b[39m\n\u001b[0;32m    201\u001b[0m ):\n\u001b[0;32m    202\u001b[0m     \u001b[39mraise\u001b[39;00m \u001b[39mException\u001b[39;00m(\u001b[39m\"\u001b[39m\u001b[39mGAN model requires labels for training\u001b[39m\u001b[39m\"\u001b[39m)\n\u001b[1;32m--> 203\u001b[0m batch_size \u001b[39m=\u001b[39m real_inputs\u001b[39m.\u001b[39;49msize(\u001b[39m0\u001b[39m)\n\u001b[0;32m    204\u001b[0m noise \u001b[39m=\u001b[39m torch\u001b[39m.\u001b[39mrandn(\n\u001b[0;32m    205\u001b[0m     batch_size, generator\u001b[39m.\u001b[39mencoding_dims, device\u001b[39m=\u001b[39mdevice\n\u001b[0;32m    206\u001b[0m )\n\u001b[0;32m    207\u001b[0m \u001b[39mif\u001b[39;00m generator\u001b[39m.\u001b[39mlabel_type \u001b[39m==\u001b[39m \u001b[39m\"\u001b[39m\u001b[39mgenerated\u001b[39m\u001b[39m\"\u001b[39m:\n",
      "\u001b[1;31mAttributeError\u001b[0m: 'str' object has no attribute 'size'"
     ]
    }
   ],
   "source": [
    "\n",
    "batch_size = 64 \n",
    "dataloader = data.DataLoader(nfu_dataset, batch_size=batch_size, shuffle=True)\n",
    "\n",
    "# Trainer initialization\n",
    "trainer = Trainer(dcgan_network, lsgan_losses, sample_size=batch_size, epochs=epochs, device=device)\n",
    "\n",
    "# Training loop\n",
    "for epoch in range(epochs):\n",
    "    for real_batch in dataloader:\n",
    "        # Training the GAN\n",
    "        trainer.train(real_batch)\n",
    "\n",
    "\n",
    "    trainer.end_epoch_hook()\n",
    "\n",
    "\n",
    "noise = torch.randn(batch_size, 100).to(device) \n",
    "fake_data = dcgan_network['generator'](noise)\n",
    "\n",
    "\n",
    "plt.figure(figsize=(10, 5))\n",
    "plt.title(\"Fake Data\")\n",
    "plt.plot(fake_data[0].detach().cpu().numpy())  \n",
    "plt.show()\n"
   ]
  }
 ],
 "metadata": {
  "kernelspec": {
   "display_name": "torch4",
   "language": "python",
   "name": "python3"
  },
  "language_info": {
   "codemirror_mode": {
    "name": "ipython",
    "version": 3
   },
   "file_extension": ".py",
   "mimetype": "text/x-python",
   "name": "python",
   "nbconvert_exporter": "python",
   "pygments_lexer": "ipython3",
   "version": "3.11.5"
  }
 },
 "nbformat": 4,
 "nbformat_minor": 2
}
