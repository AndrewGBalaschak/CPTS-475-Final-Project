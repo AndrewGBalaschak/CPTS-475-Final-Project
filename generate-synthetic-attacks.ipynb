{
 "cells": [
  {
   "cell_type": "code",
   "execution_count": 1,
   "metadata": {},
   "outputs": [
    {
     "name": "stderr",
     "output_type": "stream",
     "text": [
      "c:\\Users\\andre\\OneDrive\\Documents\\GitHub\\CPTS-475-Final-Project\\.venv\\lib\\site-packages\\_ctgan\\synthesizer.py:7: TqdmWarning: IProgress not found. Please update jupyter and ipywidgets. See https://ipywidgets.readthedocs.io/en/stable/user_install.html\n",
      "  from tqdm.autonotebook import tqdm\n"
     ]
    }
   ],
   "source": [
    "import numpy as np\n",
    "import pandas as pd\n",
    "from sklearn.model_selection import train_test_split\n",
    "from sklearn.preprocessing import LabelEncoder\n",
    "from tabgan.sampler import GANGenerator\n",
    "from torch.utils.data import Dataset, DataLoader"
   ]
  },
  {
   "cell_type": "markdown",
   "metadata": {},
   "source": [
    "# Data Loading"
   ]
  },
  {
   "cell_type": "code",
   "execution_count": 2,
   "metadata": {},
   "outputs": [
    {
     "data": {
      "text/html": [
       "<style>#sk-container-id-1 {color: black;}#sk-container-id-1 pre{padding: 0;}#sk-container-id-1 div.sk-toggleable {background-color: white;}#sk-container-id-1 label.sk-toggleable__label {cursor: pointer;display: block;width: 100%;margin-bottom: 0;padding: 0.3em;box-sizing: border-box;text-align: center;}#sk-container-id-1 label.sk-toggleable__label-arrow:before {content: \"▸\";float: left;margin-right: 0.25em;color: #696969;}#sk-container-id-1 label.sk-toggleable__label-arrow:hover:before {color: black;}#sk-container-id-1 div.sk-estimator:hover label.sk-toggleable__label-arrow:before {color: black;}#sk-container-id-1 div.sk-toggleable__content {max-height: 0;max-width: 0;overflow: hidden;text-align: left;background-color: #f0f8ff;}#sk-container-id-1 div.sk-toggleable__content pre {margin: 0.2em;color: black;border-radius: 0.25em;background-color: #f0f8ff;}#sk-container-id-1 input.sk-toggleable__control:checked~div.sk-toggleable__content {max-height: 200px;max-width: 100%;overflow: auto;}#sk-container-id-1 input.sk-toggleable__control:checked~label.sk-toggleable__label-arrow:before {content: \"▾\";}#sk-container-id-1 div.sk-estimator input.sk-toggleable__control:checked~label.sk-toggleable__label {background-color: #d4ebff;}#sk-container-id-1 div.sk-label input.sk-toggleable__control:checked~label.sk-toggleable__label {background-color: #d4ebff;}#sk-container-id-1 input.sk-hidden--visually {border: 0;clip: rect(1px 1px 1px 1px);clip: rect(1px, 1px, 1px, 1px);height: 1px;margin: -1px;overflow: hidden;padding: 0;position: absolute;width: 1px;}#sk-container-id-1 div.sk-estimator {font-family: monospace;background-color: #f0f8ff;border: 1px dotted black;border-radius: 0.25em;box-sizing: border-box;margin-bottom: 0.5em;}#sk-container-id-1 div.sk-estimator:hover {background-color: #d4ebff;}#sk-container-id-1 div.sk-parallel-item::after {content: \"\";width: 100%;border-bottom: 1px solid gray;flex-grow: 1;}#sk-container-id-1 div.sk-label:hover label.sk-toggleable__label {background-color: #d4ebff;}#sk-container-id-1 div.sk-serial::before {content: \"\";position: absolute;border-left: 1px solid gray;box-sizing: border-box;top: 0;bottom: 0;left: 50%;z-index: 0;}#sk-container-id-1 div.sk-serial {display: flex;flex-direction: column;align-items: center;background-color: white;padding-right: 0.2em;padding-left: 0.2em;position: relative;}#sk-container-id-1 div.sk-item {position: relative;z-index: 1;}#sk-container-id-1 div.sk-parallel {display: flex;align-items: stretch;justify-content: center;background-color: white;position: relative;}#sk-container-id-1 div.sk-item::before, #sk-container-id-1 div.sk-parallel-item::before {content: \"\";position: absolute;border-left: 1px solid gray;box-sizing: border-box;top: 0;bottom: 0;left: 50%;z-index: -1;}#sk-container-id-1 div.sk-parallel-item {display: flex;flex-direction: column;z-index: 1;position: relative;background-color: white;}#sk-container-id-1 div.sk-parallel-item:first-child::after {align-self: flex-end;width: 50%;}#sk-container-id-1 div.sk-parallel-item:last-child::after {align-self: flex-start;width: 50%;}#sk-container-id-1 div.sk-parallel-item:only-child::after {width: 0;}#sk-container-id-1 div.sk-dashed-wrapped {border: 1px dashed gray;margin: 0 0.4em 0.5em 0.4em;box-sizing: border-box;padding-bottom: 0.4em;background-color: white;}#sk-container-id-1 div.sk-label label {font-family: monospace;font-weight: bold;display: inline-block;line-height: 1.2em;}#sk-container-id-1 div.sk-label-container {text-align: center;}#sk-container-id-1 div.sk-container {/* jupyter's `normalize.less` sets `[hidden] { display: none; }` but bootstrap.min.css set `[hidden] { display: none !important; }` so we also need the `!important` here to be able to override the default hidden behavior on the sphinx rendered scikit-learn.org. See: https://github.com/scikit-learn/scikit-learn/issues/21755 */display: inline-block !important;position: relative;}#sk-container-id-1 div.sk-text-repr-fallback {display: none;}</style><div id=\"sk-container-id-1\" class=\"sk-top-container\"><div class=\"sk-text-repr-fallback\"><pre>LabelEncoder()</pre><b>In a Jupyter environment, please rerun this cell to show the HTML representation or trust the notebook. <br />On GitHub, the HTML representation is unable to render, please try loading this page with nbviewer.org.</b></div><div class=\"sk-container\" hidden><div class=\"sk-item\"><div class=\"sk-estimator sk-toggleable\"><input class=\"sk-toggleable__control sk-hidden--visually\" id=\"sk-estimator-id-1\" type=\"checkbox\" checked><label for=\"sk-estimator-id-1\" class=\"sk-toggleable__label sk-toggleable__label-arrow\">LabelEncoder</label><div class=\"sk-toggleable__content\"><pre>LabelEncoder()</pre></div></div></div></div></div>"
      ],
      "text/plain": [
       "LabelEncoder()"
      ]
     },
     "execution_count": 2,
     "metadata": {},
     "output_type": "execute_result"
    }
   ],
   "source": [
    "# Set up the label encoder for consistency in target labels\n",
    "le = LabelEncoder()\n",
    "labels = ['DDoS', 'Reconnaissance', 'injection', 'DoS', 'Brute Force', 'password', 'xss', 'Infilteration', 'Exploits', 'scanning', 'Fuzzers', 'Backdoor', 'Bot', 'Generic', 'Analysis', 'Theft', 'Shellcode', 'mitm', 'Worms', 'ransomware']\n",
    "le.fit(labels)"
   ]
  },
  {
   "cell_type": "code",
   "execution_count": 3,
   "metadata": {},
   "outputs": [],
   "source": [
    "# Load the data\n",
    "attacks_dataset = pd.read_csv('data/cleaned/NF-UQ-NIDS-ATTACKS.csv')\n",
    "attacks_dataset = attacks_dataset.drop(columns={'Label'}, errors='ignore')\n",
    "\n",
    "# Encode attack column\n",
    "attacks_dataset['Attack'] = le.transform(attacks_dataset['Attack'])"
   ]
  },
  {
   "cell_type": "code",
   "execution_count": 4,
   "metadata": {},
   "outputs": [],
   "source": [
    "# Split into training and test sets\n",
    "X_train, X_test, y_train, y_test = train_test_split(attacks_dataset.loc[:, attacks_dataset.columns != 'Attack'], attacks_dataset['Attack'], train_size=0.8, test_size=0.2, shuffle=True, random_state=475)\n",
    "\n",
    "# Convert targets back to dataframe from series\n",
    "y_train = y_train.to_frame()\n",
    "y_test = y_test.to_frame()"
   ]
  },
  {
   "cell_type": "code",
   "execution_count": 5,
   "metadata": {},
   "outputs": [
    {
     "name": "stdout",
     "output_type": "stream",
     "text": [
      "Index(['L4_SRC_PORT', 'L4_DST_PORT', 'PROTOCOL', 'L7_PROTO', 'IN_BYTES',\n",
      "       'OUT_BYTES', 'IN_PKTS', 'OUT_PKTS', 'TCP_FLAGS',\n",
      "       'FLOW_DURATION_MILLISECONDS', 'Attack', 'sIP31', 'sIP30', 'sIP29',\n",
      "       'sIP28', 'sIP27', 'sIP26', 'sIP25', 'sIP24', 'sIP23', 'sIP22', 'sIP21',\n",
      "       'sIP20', 'sIP19', 'sIP18', 'sIP17', 'sIP16', 'sIP15', 'sIP14', 'sIP13',\n",
      "       'sIP12', 'sIP11', 'sIP10', 'sIP9', 'sIP8', 'sIP7', 'sIP6', 'sIP5',\n",
      "       'sIP4', 'sIP3', 'sIP2', 'sIP1', 'sIP0', 'dIP31', 'dIP30', 'dIP29',\n",
      "       'dIP28', 'dIP27', 'dIP26', 'dIP25', 'dIP24', 'dIP23', 'dIP22', 'dIP21',\n",
      "       'dIP20', 'dIP19', 'dIP18', 'dIP17', 'dIP16', 'dIP15', 'dIP14', 'dIP13',\n",
      "       'dIP12', 'dIP11', 'dIP10', 'dIP9', 'dIP8', 'dIP7', 'dIP6', 'dIP5',\n",
      "       'dIP4', 'dIP3', 'dIP2', 'dIP1', 'dIP0'],\n",
      "      dtype='object')\n"
     ]
    }
   ],
   "source": [
    "print(attacks_dataset.columns)"
   ]
  },
  {
   "cell_type": "code",
   "execution_count": 6,
   "metadata": {},
   "outputs": [],
   "source": [
    "categorical_columns = ['L4_SRC_PORT', 'L4_DST_PORT', 'PROTOCOL', 'L7_PROTO', 'TCP_FLAGS',\n",
    "                        'sIP31', 'sIP30', 'sIP29', 'sIP28', 'sIP27', 'sIP26', 'sIP25',\n",
    "                        'sIP24', 'sIP23', 'sIP22', 'sIP21', 'sIP20', 'sIP19', 'sIP18',\n",
    "                        'sIP17', 'sIP16', 'sIP15', 'sIP14', 'sIP13', 'sIP12', 'sIP11',\n",
    "                        'sIP10', 'sIP9', 'sIP8', 'sIP7', 'sIP6', 'sIP5','sIP4', 'sIP3',\n",
    "                        'sIP2', 'sIP1', 'sIP0', 'dIP31', 'dIP30', 'dIP29', 'dIP28', 'dIP27',\n",
    "                        'dIP26', 'dIP25', 'dIP24', 'dIP23', 'dIP22', 'dIP21', 'dIP20', 'dIP19',\n",
    "                        'dIP18', 'dIP17', 'dIP16', 'dIP15', 'dIP14', 'dIP13', 'dIP12', 'dIP11',\n",
    "                        'dIP10', 'dIP9', 'dIP8', 'dIP7', 'dIP6', 'dIP5', 'dIP4', 'dIP3', 'dIP2', 'dIP1', 'dIP0']"
   ]
  },
  {
   "cell_type": "markdown",
   "metadata": {},
   "source": [
    "# Train GAN and Generate Data"
   ]
  },
  {
   "cell_type": "code",
   "execution_count": 7,
   "metadata": {},
   "outputs": [
    {
     "name": "stderr",
     "output_type": "stream",
     "text": [
      "Fitting CTGAN transformers for each column:   0%|          | 0/75 [00:00<?, ?it/s]"
     ]
    },
    {
     "name": "stderr",
     "output_type": "stream",
     "text": [
      "Fitting CTGAN transformers for each column: 100%|██████████| 75/75 [00:01<00:00, 44.49it/s]\n",
      "Training CTGAN, epochs::   1%|          | 3/500 [00:11<31:55,  3.85s/it]\n"
     ]
    },
    {
     "ename": "KeyboardInterrupt",
     "evalue": "",
     "output_type": "error",
     "traceback": [
      "\u001b[1;31m---------------------------------------------------------------------------\u001b[0m",
      "\u001b[1;31mKeyboardInterrupt\u001b[0m                         Traceback (most recent call last)",
      "\u001b[1;32mc:\\Users\\andre\\OneDrive\\Documents\\GitHub\\CPTS-475-Final-Project\\generate-synthetic-attacks.ipynb Cell 9\u001b[0m line \u001b[0;36m2\n\u001b[0;32m      <a href='vscode-notebook-cell:/c%3A/Users/andre/OneDrive/Documents/GitHub/CPTS-475-Final-Project/generate-synthetic-attacks.ipynb#X11sZmlsZQ%3D%3D?line=0'>1</a>\u001b[0m \u001b[39m# Use tabgan to generate synthetic data based on the attacks data\u001b[39;00m\n\u001b[1;32m----> <a href='vscode-notebook-cell:/c%3A/Users/andre/OneDrive/Documents/GitHub/CPTS-475-Final-Project/generate-synthetic-attacks.ipynb#X11sZmlsZQ%3D%3D?line=1'>2</a>\u001b[0m gen_x, gen_y \u001b[39m=\u001b[39m GANGenerator(gen_x_times\u001b[39m=\u001b[39;49m\u001b[39m40\u001b[39;49m, cat_cols\u001b[39m=\u001b[39;49mcategorical_columns)\u001b[39m.\u001b[39;49mgenerate_data_pipe(X_train, y_train, X_test, only_adversarial\u001b[39m=\u001b[39;49m\u001b[39mFalse\u001b[39;49;00m, use_adversarial\u001b[39m=\u001b[39;49m\u001b[39mTrue\u001b[39;49;00m, only_generated_data\u001b[39m=\u001b[39;49m\u001b[39mTrue\u001b[39;49;00m)\n",
      "File \u001b[1;32mc:\\Users\\andre\\OneDrive\\Documents\\GitHub\\CPTS-475-Final-Project\\.venv\\lib\\site-packages\\tabgan\\abc_sampler.py:67\u001b[0m, in \u001b[0;36mSampleData.generate_data_pipe\u001b[1;34m(self, train_df, target, test_df, deep_copy, only_adversarial, use_adversarial, only_generated_data)\u001b[0m\n\u001b[0;32m     65\u001b[0m \u001b[39melse\u001b[39;00m:\n\u001b[0;32m     66\u001b[0m     logging\u001b[39m.\u001b[39minfo(\u001b[39m\"\u001b[39m\u001b[39mStarting generation step.\u001b[39m\u001b[39m\"\u001b[39m)\n\u001b[1;32m---> 67\u001b[0m     new_train, new_target \u001b[39m=\u001b[39m generator\u001b[39m.\u001b[39;49mgenerate_data(\n\u001b[0;32m     68\u001b[0m         new_train, new_target, test_df, only_generated_data\n\u001b[0;32m     69\u001b[0m     )\n\u001b[0;32m     70\u001b[0m     logging\u001b[39m.\u001b[39minfo(\u001b[39m\"\u001b[39m\u001b[39mStarting postprocessing step.\u001b[39m\u001b[39m\"\u001b[39m)\n\u001b[0;32m     71\u001b[0m     new_train, new_target \u001b[39m=\u001b[39m generator\u001b[39m.\u001b[39mpostprocess_data(\n\u001b[0;32m     72\u001b[0m         new_train, new_target, test_df\n\u001b[0;32m     73\u001b[0m     )\n",
      "File \u001b[1;32mc:\\Users\\andre\\OneDrive\\Documents\\GitHub\\CPTS-475-Final-Project\\.venv\\lib\\site-packages\\tabgan\\sampler.py:257\u001b[0m, in \u001b[0;36mSamplerGAN.generate_data\u001b[1;34m(self, train_df, target, test_df, only_generated_data)\u001b[0m\n\u001b[0;32m    255\u001b[0m     ctgan\u001b[39m.\u001b[39mfit(train_df, [], epochs\u001b[39m=\u001b[39m\u001b[39mself\u001b[39m\u001b[39m.\u001b[39mgen_params[\u001b[39m\"\u001b[39m\u001b[39mepochs\u001b[39m\u001b[39m\"\u001b[39m])\n\u001b[0;32m    256\u001b[0m \u001b[39melse\u001b[39;00m:\n\u001b[1;32m--> 257\u001b[0m     ctgan\u001b[39m.\u001b[39;49mfit(train_df, \u001b[39mself\u001b[39;49m\u001b[39m.\u001b[39;49mcat_cols, epochs\u001b[39m=\u001b[39;49m\u001b[39mself\u001b[39;49m\u001b[39m.\u001b[39;49mgen_params[\u001b[39m\"\u001b[39;49m\u001b[39mepochs\u001b[39;49m\u001b[39m\"\u001b[39;49m])\n\u001b[0;32m    258\u001b[0m logging\u001b[39m.\u001b[39minfo(\u001b[39m\"\u001b[39m\u001b[39mFinished training GAN\u001b[39m\u001b[39m\"\u001b[39m)\n\u001b[0;32m    259\u001b[0m generated_df \u001b[39m=\u001b[39m ctgan\u001b[39m.\u001b[39msample(\n\u001b[0;32m    260\u001b[0m     \u001b[39mself\u001b[39m\u001b[39m.\u001b[39mpregeneration_frac \u001b[39m*\u001b[39m \u001b[39mself\u001b[39m\u001b[39m.\u001b[39mget_generated_shape(train_df)\n\u001b[0;32m    261\u001b[0m )\n",
      "File \u001b[1;32mc:\\Users\\andre\\OneDrive\\Documents\\GitHub\\CPTS-475-Final-Project\\.venv\\lib\\site-packages\\_ctgan\\synthesizer.py:255\u001b[0m, in \u001b[0;36m_CTGANSynthesizer.fit\u001b[1;34m(self, train_data, discrete_columns, epochs, log_frequency)\u001b[0m\n\u001b[0;32m    252\u001b[0m     fakez \u001b[39m=\u001b[39m torch\u001b[39m.\u001b[39mcat([fakez, c1], dim\u001b[39m=\u001b[39m\u001b[39m1\u001b[39m)\n\u001b[0;32m    254\u001b[0m fake \u001b[39m=\u001b[39m \u001b[39mself\u001b[39m\u001b[39m.\u001b[39mgenerator(fakez)\n\u001b[1;32m--> 255\u001b[0m fakeact \u001b[39m=\u001b[39m \u001b[39mself\u001b[39;49m\u001b[39m.\u001b[39;49m_apply_activate(fake)\n\u001b[0;32m    257\u001b[0m \u001b[39mif\u001b[39;00m c1 \u001b[39mis\u001b[39;00m \u001b[39mnot\u001b[39;00m \u001b[39mNone\u001b[39;00m:\n\u001b[0;32m    258\u001b[0m     y_fake \u001b[39m=\u001b[39m discriminator(torch\u001b[39m.\u001b[39mcat([fakeact, c1], dim\u001b[39m=\u001b[39m\u001b[39m1\u001b[39m))\n",
      "File \u001b[1;32mc:\\Users\\andre\\OneDrive\\Documents\\GitHub\\CPTS-475-Final-Project\\.venv\\lib\\site-packages\\_ctgan\\synthesizer.py:103\u001b[0m, in \u001b[0;36m_CTGANSynthesizer._apply_activate\u001b[1;34m(self, data)\u001b[0m\n\u001b[0;32m    101\u001b[0m \u001b[39melif\u001b[39;00m item[\u001b[39m1\u001b[39m] \u001b[39m==\u001b[39m \u001b[39m\"\u001b[39m\u001b[39msoftmax\u001b[39m\u001b[39m\"\u001b[39m:\n\u001b[0;32m    102\u001b[0m     ed \u001b[39m=\u001b[39m st \u001b[39m+\u001b[39m item[\u001b[39m0\u001b[39m]\n\u001b[1;32m--> 103\u001b[0m     data_t\u001b[39m.\u001b[39mappend(functional\u001b[39m.\u001b[39;49mgumbel_softmax(data[:, st:ed], tau\u001b[39m=\u001b[39;49m\u001b[39m0.2\u001b[39;49m))\n\u001b[0;32m    104\u001b[0m     st \u001b[39m=\u001b[39m ed\n\u001b[0;32m    105\u001b[0m \u001b[39melse\u001b[39;00m:\n",
      "File \u001b[1;32mc:\\Users\\andre\\OneDrive\\Documents\\GitHub\\CPTS-475-Final-Project\\.venv\\lib\\site-packages\\torch\\nn\\functional.py:1911\u001b[0m, in \u001b[0;36mgumbel_softmax\u001b[1;34m(logits, tau, hard, eps, dim)\u001b[0m\n\u001b[0;32m   1907\u001b[0m gumbels \u001b[39m=\u001b[39m (\n\u001b[0;32m   1908\u001b[0m     \u001b[39m-\u001b[39mtorch\u001b[39m.\u001b[39mempty_like(logits, memory_format\u001b[39m=\u001b[39mtorch\u001b[39m.\u001b[39mlegacy_contiguous_format)\u001b[39m.\u001b[39mexponential_()\u001b[39m.\u001b[39mlog()\n\u001b[0;32m   1909\u001b[0m )  \u001b[39m# ~Gumbel(0,1)\u001b[39;00m\n\u001b[0;32m   1910\u001b[0m gumbels \u001b[39m=\u001b[39m (logits \u001b[39m+\u001b[39m gumbels) \u001b[39m/\u001b[39m tau  \u001b[39m# ~Gumbel(logits,tau)\u001b[39;00m\n\u001b[1;32m-> 1911\u001b[0m y_soft \u001b[39m=\u001b[39m gumbels\u001b[39m.\u001b[39;49msoftmax(dim)\n\u001b[0;32m   1913\u001b[0m \u001b[39mif\u001b[39;00m hard:\n\u001b[0;32m   1914\u001b[0m     \u001b[39m# Straight through.\u001b[39;00m\n\u001b[0;32m   1915\u001b[0m     index \u001b[39m=\u001b[39m y_soft\u001b[39m.\u001b[39mmax(dim, keepdim\u001b[39m=\u001b[39m\u001b[39mTrue\u001b[39;00m)[\u001b[39m1\u001b[39m]\n",
      "\u001b[1;31mKeyboardInterrupt\u001b[0m: "
     ]
    }
   ],
   "source": [
    "# Use tabgan to generate synthetic data based on the attacks data\n",
    "gen_x, gen_y = GANGenerator(gen_x_times=40, cat_cols=categorical_columns).generate_data_pipe(X_train, y_train, X_test, only_adversarial=False, use_adversarial=True, only_generated_data=True)"
   ]
  },
  {
   "cell_type": "markdown",
   "metadata": {},
   "source": [
    "# Format Data and Write to CSV"
   ]
  },
  {
   "cell_type": "code",
   "execution_count": null,
   "metadata": {},
   "outputs": [],
   "source": [
    "# Transform targets back into attack categories\n",
    "gen_y = le.inverse_transform(gen_y)\n",
    "gen_x['Attack'] = gen_y\n",
    "\n",
    "# Write the generated data to a csv file\n",
    "gen_x.to_csv(\"data/synthetic/NF-UQ-NIDS-ATTACKS-SYNTHETIC.csv\", index=False)"
   ]
  }
 ],
 "metadata": {
  "kernelspec": {
   "display_name": ".venv",
   "language": "python",
   "name": "python3"
  },
  "language_info": {
   "codemirror_mode": {
    "name": "ipython",
    "version": 3
   },
   "file_extension": ".py",
   "mimetype": "text/x-python",
   "name": "python",
   "nbconvert_exporter": "python",
   "pygments_lexer": "ipython3",
   "version": "3.10.6"
  }
 },
 "nbformat": 4,
 "nbformat_minor": 2
}
