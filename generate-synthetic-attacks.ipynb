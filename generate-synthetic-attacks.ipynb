{
 "cells": [
  {
   "cell_type": "code",
   "execution_count": 1,
   "metadata": {},
   "outputs": [
    {
     "name": "stderr",
     "output_type": "stream",
     "text": [
      "c:\\Users\\andre\\OneDrive\\Documents\\GitHub\\CPTS-475-Final-Project\\.venv\\lib\\site-packages\\_ctgan\\synthesizer.py:7: TqdmWarning: IProgress not found. Please update jupyter and ipywidgets. See https://ipywidgets.readthedocs.io/en/stable/user_install.html\n",
      "  from tqdm.autonotebook import tqdm\n"
     ]
    }
   ],
   "source": [
    "import numpy as np\n",
    "import pandas as pd\n",
    "from sklearn.model_selection import train_test_split\n",
    "from sklearn.preprocessing import LabelEncoder\n",
    "from tabgan.sampler import GANGenerator\n",
    "from torch.utils.data import Dataset, DataLoader"
   ]
  },
  {
   "cell_type": "markdown",
   "metadata": {},
   "source": [
    "# Data Loading"
   ]
  },
  {
   "cell_type": "code",
   "execution_count": 2,
   "metadata": {},
   "outputs": [
    {
     "data": {
      "text/html": [
       "<style>#sk-container-id-1 {color: black;}#sk-container-id-1 pre{padding: 0;}#sk-container-id-1 div.sk-toggleable {background-color: white;}#sk-container-id-1 label.sk-toggleable__label {cursor: pointer;display: block;width: 100%;margin-bottom: 0;padding: 0.3em;box-sizing: border-box;text-align: center;}#sk-container-id-1 label.sk-toggleable__label-arrow:before {content: \"▸\";float: left;margin-right: 0.25em;color: #696969;}#sk-container-id-1 label.sk-toggleable__label-arrow:hover:before {color: black;}#sk-container-id-1 div.sk-estimator:hover label.sk-toggleable__label-arrow:before {color: black;}#sk-container-id-1 div.sk-toggleable__content {max-height: 0;max-width: 0;overflow: hidden;text-align: left;background-color: #f0f8ff;}#sk-container-id-1 div.sk-toggleable__content pre {margin: 0.2em;color: black;border-radius: 0.25em;background-color: #f0f8ff;}#sk-container-id-1 input.sk-toggleable__control:checked~div.sk-toggleable__content {max-height: 200px;max-width: 100%;overflow: auto;}#sk-container-id-1 input.sk-toggleable__control:checked~label.sk-toggleable__label-arrow:before {content: \"▾\";}#sk-container-id-1 div.sk-estimator input.sk-toggleable__control:checked~label.sk-toggleable__label {background-color: #d4ebff;}#sk-container-id-1 div.sk-label input.sk-toggleable__control:checked~label.sk-toggleable__label {background-color: #d4ebff;}#sk-container-id-1 input.sk-hidden--visually {border: 0;clip: rect(1px 1px 1px 1px);clip: rect(1px, 1px, 1px, 1px);height: 1px;margin: -1px;overflow: hidden;padding: 0;position: absolute;width: 1px;}#sk-container-id-1 div.sk-estimator {font-family: monospace;background-color: #f0f8ff;border: 1px dotted black;border-radius: 0.25em;box-sizing: border-box;margin-bottom: 0.5em;}#sk-container-id-1 div.sk-estimator:hover {background-color: #d4ebff;}#sk-container-id-1 div.sk-parallel-item::after {content: \"\";width: 100%;border-bottom: 1px solid gray;flex-grow: 1;}#sk-container-id-1 div.sk-label:hover label.sk-toggleable__label {background-color: #d4ebff;}#sk-container-id-1 div.sk-serial::before {content: \"\";position: absolute;border-left: 1px solid gray;box-sizing: border-box;top: 0;bottom: 0;left: 50%;z-index: 0;}#sk-container-id-1 div.sk-serial {display: flex;flex-direction: column;align-items: center;background-color: white;padding-right: 0.2em;padding-left: 0.2em;position: relative;}#sk-container-id-1 div.sk-item {position: relative;z-index: 1;}#sk-container-id-1 div.sk-parallel {display: flex;align-items: stretch;justify-content: center;background-color: white;position: relative;}#sk-container-id-1 div.sk-item::before, #sk-container-id-1 div.sk-parallel-item::before {content: \"\";position: absolute;border-left: 1px solid gray;box-sizing: border-box;top: 0;bottom: 0;left: 50%;z-index: -1;}#sk-container-id-1 div.sk-parallel-item {display: flex;flex-direction: column;z-index: 1;position: relative;background-color: white;}#sk-container-id-1 div.sk-parallel-item:first-child::after {align-self: flex-end;width: 50%;}#sk-container-id-1 div.sk-parallel-item:last-child::after {align-self: flex-start;width: 50%;}#sk-container-id-1 div.sk-parallel-item:only-child::after {width: 0;}#sk-container-id-1 div.sk-dashed-wrapped {border: 1px dashed gray;margin: 0 0.4em 0.5em 0.4em;box-sizing: border-box;padding-bottom: 0.4em;background-color: white;}#sk-container-id-1 div.sk-label label {font-family: monospace;font-weight: bold;display: inline-block;line-height: 1.2em;}#sk-container-id-1 div.sk-label-container {text-align: center;}#sk-container-id-1 div.sk-container {/* jupyter's `normalize.less` sets `[hidden] { display: none; }` but bootstrap.min.css set `[hidden] { display: none !important; }` so we also need the `!important` here to be able to override the default hidden behavior on the sphinx rendered scikit-learn.org. See: https://github.com/scikit-learn/scikit-learn/issues/21755 */display: inline-block !important;position: relative;}#sk-container-id-1 div.sk-text-repr-fallback {display: none;}</style><div id=\"sk-container-id-1\" class=\"sk-top-container\"><div class=\"sk-text-repr-fallback\"><pre>LabelEncoder()</pre><b>In a Jupyter environment, please rerun this cell to show the HTML representation or trust the notebook. <br />On GitHub, the HTML representation is unable to render, please try loading this page with nbviewer.org.</b></div><div class=\"sk-container\" hidden><div class=\"sk-item\"><div class=\"sk-estimator sk-toggleable\"><input class=\"sk-toggleable__control sk-hidden--visually\" id=\"sk-estimator-id-1\" type=\"checkbox\" checked><label for=\"sk-estimator-id-1\" class=\"sk-toggleable__label sk-toggleable__label-arrow\">LabelEncoder</label><div class=\"sk-toggleable__content\"><pre>LabelEncoder()</pre></div></div></div></div></div>"
      ],
      "text/plain": [
       "LabelEncoder()"
      ]
     },
     "execution_count": 2,
     "metadata": {},
     "output_type": "execute_result"
    }
   ],
   "source": [
    "# Set up the label encoder for consistency in target labels\n",
    "le = LabelEncoder()\n",
    "labels = ['DDoS', 'Reconnaissance', 'injection', 'DoS', 'Brute Force', 'password', 'xss', 'Infilteration', 'Exploits', 'scanning', 'Fuzzers', 'Backdoor', 'Bot', 'Generic', 'Analysis', 'Theft', 'Shellcode', 'mitm', 'Worms', 'ransomware']\n",
    "le.fit(labels)"
   ]
  },
  {
   "cell_type": "code",
   "execution_count": 3,
   "metadata": {},
   "outputs": [],
   "source": [
    "# Load the data\n",
    "attacks_dataset = pd.read_csv('data/cleaned/NF-UQ-NIDS-ATTACKS.csv')\n",
    "attacks_dataset = attacks_dataset.head(10000)\n",
    "attacks_dataset = attacks_dataset.drop(columns={'Label', 'Dataset'})\n",
    "\n",
    "# Encode attack column\n",
    "attacks_dataset['Attack'] = le.transform(attacks_dataset['Attack'])"
   ]
  },
  {
   "cell_type": "code",
   "execution_count": 4,
   "metadata": {},
   "outputs": [],
   "source": [
    "# Split into training and test sets\n",
    "X_train, X_test, y_train, y_test = train_test_split(attacks_dataset.loc[:, attacks_dataset.columns != 'Attack'], attacks_dataset['Attack'], train_size=0.8, test_size=0.2, shuffle=True, random_state=475)\n",
    "\n",
    "# Convert targets back to dataframe from series\n",
    "y_train = y_train.to_frame()\n",
    "y_test = y_test.to_frame()"
   ]
  },
  {
   "cell_type": "code",
   "execution_count": 5,
   "metadata": {},
   "outputs": [
    {
     "name": "stdout",
     "output_type": "stream",
     "text": [
      "Index(['L4_SRC_PORT', 'L4_DST_PORT', 'PROTOCOL', 'L7_PROTO', 'IN_BYTES',\n",
      "       'OUT_BYTES', 'IN_PKTS', 'OUT_PKTS', 'TCP_FLAGS',\n",
      "       'FLOW_DURATION_MILLISECONDS', 'Attack', 'sIP31', 'sIP30', 'sIP29',\n",
      "       'sIP28', 'sIP27', 'sIP26', 'sIP25', 'sIP24', 'sIP23', 'sIP22', 'sIP21',\n",
      "       'sIP20', 'sIP19', 'sIP18', 'sIP17', 'sIP16', 'sIP15', 'sIP14', 'sIP13',\n",
      "       'sIP12', 'sIP11', 'sIP10', 'sIP9', 'sIP8', 'sIP7', 'sIP6', 'sIP5',\n",
      "       'sIP4', 'sIP3', 'sIP2', 'sIP1', 'sIP0', 'dIP31', 'dIP30', 'dIP29',\n",
      "       'dIP28', 'dIP27', 'dIP26', 'dIP25', 'dIP24', 'dIP23', 'dIP22', 'dIP21',\n",
      "       'dIP20', 'dIP19', 'dIP18', 'dIP17', 'dIP16', 'dIP15', 'dIP14', 'dIP13',\n",
      "       'dIP12', 'dIP11', 'dIP10', 'dIP9', 'dIP8', 'dIP7', 'dIP6', 'dIP5',\n",
      "       'dIP4', 'dIP3', 'dIP2', 'dIP1', 'dIP0'],\n",
      "      dtype='object')\n"
     ]
    }
   ],
   "source": [
    "print(attacks_dataset.columns)"
   ]
  },
  {
   "cell_type": "code",
   "execution_count": 6,
   "metadata": {},
   "outputs": [],
   "source": [
    "categorical_columns = ['L4_SRC_PORT', 'L4_DST_PORT', 'PROTOCOL', 'L7_PROTO', 'TCP_FLAGS',\n",
    "                        'sIP31', 'sIP30', 'sIP29', 'sIP28', 'sIP27', 'sIP26', 'sIP25',\n",
    "                        'sIP24', 'sIP23', 'sIP22', 'sIP21', 'sIP20', 'sIP19', 'sIP18',\n",
    "                        'sIP17', 'sIP16', 'sIP15', 'sIP14', 'sIP13', 'sIP12', 'sIP11',\n",
    "                        'sIP10', 'sIP9', 'sIP8', 'sIP7', 'sIP6', 'sIP5','sIP4', 'sIP3',\n",
    "                        'sIP2', 'sIP1', 'sIP0', 'dIP31', 'dIP30', 'dIP29', 'dIP28', 'dIP27',\n",
    "                        'dIP26', 'dIP25', 'dIP24', 'dIP23', 'dIP22', 'dIP21', 'dIP20', 'dIP19',\n",
    "                        'dIP18', 'dIP17', 'dIP16', 'dIP15', 'dIP14', 'dIP13', 'dIP12', 'dIP11',\n",
    "                        'dIP10', 'dIP9', 'dIP8', 'dIP7', 'dIP6', 'dIP5', 'dIP4', 'dIP3', 'dIP2', 'dIP1', 'dIP0']"
   ]
  },
  {
   "cell_type": "markdown",
   "metadata": {},
   "source": [
    "# Train GAN and Generate Data"
   ]
  },
  {
   "cell_type": "code",
   "execution_count": 7,
   "metadata": {},
   "outputs": [
    {
     "name": "stderr",
     "output_type": "stream",
     "text": [
      "Fitting CTGAN transformers for each column:   0%|          | 0/75 [00:00<?, ?it/s]"
     ]
    },
    {
     "name": "stderr",
     "output_type": "stream",
     "text": [
      "Fitting CTGAN transformers for each column: 100%|██████████| 75/75 [00:01<00:00, 44.05it/s]\n",
      "Training CTGAN, epochs::  12%|█▏        | 61/500 [02:56<21:12,  2.90s/it]\n"
     ]
    },
    {
     "name": "stdout",
     "output_type": "stream",
     "text": [
      "[LightGBM] [Info] Number of positive: 838, number of negative: 837\n",
      "[LightGBM] [Info] Auto-choosing row-wise multi-threading, the overhead of testing was 0.000111 seconds.\n",
      "You can set `force_row_wise=true` to remove the overhead.\n",
      "And if memory is not enough, you can set `force_col_wise=true`.\n",
      "[LightGBM] [Info] Total Bins 517\n",
      "[LightGBM] [Info] Number of data points in the train set: 1675, number of used features: 17\n",
      "[LightGBM] [Info] [binary:BoostFromScore]: pavg=0.500299 -> initscore=0.001194\n",
      "[LightGBM] [Info] Start training from score 0.001194\n",
      "[LightGBM] [Info] Number of positive: 838, number of negative: 837\n",
      "[LightGBM] [Info] Auto-choosing col-wise multi-threading, the overhead of testing was 0.000225 seconds.\n",
      "You can set `force_col_wise=true` to remove the overhead.\n",
      "[LightGBM] [Info] Total Bins 516\n",
      "[LightGBM] [Info] Number of data points in the train set: 1675, number of used features: 17\n",
      "[LightGBM] [Info] [binary:BoostFromScore]: pavg=0.500299 -> initscore=0.001194\n",
      "[LightGBM] [Info] Start training from score 0.001194\n",
      "[LightGBM] [Info] Number of positive: 837, number of negative: 838\n",
      "[LightGBM] [Info] Auto-choosing col-wise multi-threading, the overhead of testing was 0.000226 seconds.\n",
      "You can set `force_col_wise=true` to remove the overhead.\n",
      "[LightGBM] [Info] Total Bins 524\n",
      "[LightGBM] [Info] Number of data points in the train set: 1675, number of used features: 17\n",
      "[LightGBM] [Info] [binary:BoostFromScore]: pavg=0.499701 -> initscore=-0.001194\n",
      "[LightGBM] [Info] Start training from score -0.001194\n",
      "[LightGBM] [Info] Number of positive: 837, number of negative: 838\n",
      "[LightGBM] [Info] Auto-choosing col-wise multi-threading, the overhead of testing was 0.000225 seconds.\n",
      "You can set `force_col_wise=true` to remove the overhead.\n",
      "[LightGBM] [Info] Total Bins 524\n",
      "[LightGBM] [Info] Number of data points in the train set: 1675, number of used features: 17\n",
      "[LightGBM] [Info] [binary:BoostFromScore]: pavg=0.499701 -> initscore=-0.001194\n",
      "[LightGBM] [Info] Start training from score -0.001194\n",
      "[LightGBM] [Info] Number of positive: 838, number of negative: 838\n",
      "[LightGBM] [Info] Auto-choosing col-wise multi-threading, the overhead of testing was 0.000238 seconds.\n",
      "You can set `force_col_wise=true` to remove the overhead.\n",
      "[LightGBM] [Info] Total Bins 523\n",
      "[LightGBM] [Info] Number of data points in the train set: 1676, number of used features: 17\n",
      "[LightGBM] [Info] [binary:BoostFromScore]: pavg=0.500000 -> initscore=0.000000\n"
     ]
    }
   ],
   "source": [
    "# Use tabgan to generate synthetic data based on the attacks data\n",
    "gen_x, gen_y = GANGenerator(gen_x_times=60, cat_cols=categorical_columns).generate_data_pipe(X_train, y_train, X_test, only_adversarial=False, use_adversarial=True, only_generated_data=True)"
   ]
  },
  {
   "cell_type": "code",
   "execution_count": 8,
   "metadata": {},
   "outputs": [
    {
     "name": "stdout",
     "output_type": "stream",
     "text": [
      "      L4_SRC_PORT  L4_DST_PORT  PROTOCOL  L7_PROTO  IN_BYTES  OUT_BYTES  \\\n",
      "0               0           80         6     10.16      2107       4712   \n",
      "1               0          111         6     13.00     28429       6508   \n",
      "2               0            0         6      0.00      2035       9132   \n",
      "3               0           80         6     11.00      3123       5304   \n",
      "4               0          514        17      7.00      1906       4895   \n",
      "...           ...          ...       ...       ...       ...        ...   \n",
      "1042        49190         5060       198     41.00     25791       3959   \n",
      "1043         8567          445        11     11.00     36609      25166   \n",
      "1044         1043           80         6      0.00       950         25   \n",
      "1045        65312          520         6     20.00     56780      15028   \n",
      "1046         8567           25        17      7.00      1030       3135   \n",
      "\n",
      "      IN_PKTS  OUT_PKTS  TCP_FLAGS  FLOW_DURATION_MILLISECONDS  ...  dIP9  \\\n",
      "0           2         1          0                        1263  ...   1.0   \n",
      "1           8         0         19                         772  ...   1.0   \n",
      "2           2         2          0                        1077  ...   1.0   \n",
      "3           4         1          0                         911  ...   1.0   \n",
      "4           2         0          0                        1210  ...   1.0   \n",
      "...       ...       ...        ...                         ...  ...   ...   \n",
      "1042       36         9         19                          73  ...   1.0   \n",
      "1043       45         9         27                        1455  ...   1.0   \n",
      "1044       12         7          0                         207  ...   1.0   \n",
      "1045       14        22         27                      107310  ...   1.0   \n",
      "1046       16        26         19                         143  ...   1.0   \n",
      "\n",
      "      dIP8  dIP7  dIP6  dIP5  dIP4  dIP3  dIP2  dIP1  dIP0  \n",
      "0      0.0   0.0   0.0   0.0   1.0   1.0   0.0   1.0   0.0  \n",
      "1      0.0   0.0   0.0   0.0   0.0   1.0   1.0   0.0   1.0  \n",
      "2      0.0   0.0   0.0   0.0   0.0   1.0   0.0   1.0   0.0  \n",
      "3      0.0   0.0   0.0   0.0   1.0   1.0   0.0   1.0   0.0  \n",
      "4      0.0   0.0   0.0   0.0   1.0   1.0   0.0   0.0   0.0  \n",
      "...    ...   ...   ...   ...   ...   ...   ...   ...   ...  \n",
      "1042   0.0   0.0   0.0   0.0   1.0   1.0   1.0   1.0   0.0  \n",
      "1043   0.0   0.0   0.0   0.0   1.0   1.0   1.0   0.0   0.0  \n",
      "1044   0.0   0.0   0.0   0.0   0.0   1.0   0.0   1.0   0.0  \n",
      "1045   0.0   0.0   0.0   0.0   0.0   1.0   0.0   1.0   1.0  \n",
      "1046   0.0   0.0   0.0   0.0   1.0   1.0   0.0   1.0   1.0  \n",
      "\n",
      "[1047 rows x 74 columns]\n",
      "0        7\n",
      "1        8\n",
      "2        7\n",
      "3        0\n",
      "4        7\n",
      "        ..\n",
      "1042    10\n",
      "1043     7\n",
      "1044     0\n",
      "1045     5\n",
      "1046     6\n",
      "Name: Attack, Length: 1047, dtype: int32\n"
     ]
    }
   ],
   "source": [
    "print(gen_x)\n",
    "print(gen_y)"
   ]
  },
  {
   "cell_type": "markdown",
   "metadata": {},
   "source": [
    "# Format Data and Write to CSV"
   ]
  },
  {
   "cell_type": "code",
   "execution_count": 9,
   "metadata": {},
   "outputs": [
    {
     "name": "stdout",
     "output_type": "stream",
     "text": [
      "['Fuzzers' 'Generic' 'Fuzzers' ... 'Analysis' 'DoS' 'Exploits']\n"
     ]
    }
   ],
   "source": [
    "# Transform targets back into attack categories\n",
    "gen_y = le.inverse_transform(gen_y)\n",
    "print(gen_y)"
   ]
  },
  {
   "cell_type": "code",
   "execution_count": 10,
   "metadata": {},
   "outputs": [],
   "source": [
    "# Write the generated data to a csv file\n",
    "gen_x['Attack'] = gen_y\n",
    "\n",
    "gen_x.to_csv(\"data/synthetic/NF-UQ-NIDS-ATTACKS-SYNTHETIC.csv\", index=False)"
   ]
  }
 ],
 "metadata": {
  "kernelspec": {
   "display_name": ".venv",
   "language": "python",
   "name": "python3"
  },
  "language_info": {
   "codemirror_mode": {
    "name": "ipython",
    "version": 3
   },
   "file_extension": ".py",
   "mimetype": "text/x-python",
   "name": "python",
   "nbconvert_exporter": "python",
   "pygments_lexer": "ipython3",
   "version": "3.10.6"
  }
 },
 "nbformat": 4,
 "nbformat_minor": 2
}
