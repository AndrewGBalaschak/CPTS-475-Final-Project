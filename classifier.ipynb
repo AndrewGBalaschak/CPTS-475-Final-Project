{
 "cells": [
  {
   "cell_type": "markdown",
   "metadata": {},
   "source": [
    "# Imports"
   ]
  },
  {
   "cell_type": "code",
   "execution_count": 1,
   "metadata": {},
   "outputs": [],
   "source": [
    "import os\n",
    "import torch\n",
    "import torch.nn as nn\n",
    "import torch.nn.functional as F\n",
    "import torch.optim as optim\n",
    "import numpy as np\n",
    "import pandas as pd\n",
    "import matplotlib.pyplot as plt\n",
    "from torcheval.metrics import MulticlassAccuracy\n",
    "from torch.utils.data import Dataset, DataLoader\n",
    "from tqdm import tqdm\n",
    "from sklearn.preprocessing import LabelEncoder\n",
    "\n",
    "# Check if CUDA (GPU) is available and set the device accordingly.\n",
    "# device = \"cuda\" if torch.cuda.is_available() else \"cpu\"\n",
    "# print(f\"Using device: {device}\")\n",
    "\n",
    "# For some reason, using the GPU is much slower than CPU\n",
    "device = 'cpu'"
   ]
  },
  {
   "cell_type": "markdown",
   "metadata": {},
   "source": [
    "# Data Loading"
   ]
  },
  {
   "cell_type": "code",
   "execution_count": 2,
   "metadata": {},
   "outputs": [
    {
     "data": {
      "text/html": [
       "<style>#sk-container-id-1 {color: black;}#sk-container-id-1 pre{padding: 0;}#sk-container-id-1 div.sk-toggleable {background-color: white;}#sk-container-id-1 label.sk-toggleable__label {cursor: pointer;display: block;width: 100%;margin-bottom: 0;padding: 0.3em;box-sizing: border-box;text-align: center;}#sk-container-id-1 label.sk-toggleable__label-arrow:before {content: \"▸\";float: left;margin-right: 0.25em;color: #696969;}#sk-container-id-1 label.sk-toggleable__label-arrow:hover:before {color: black;}#sk-container-id-1 div.sk-estimator:hover label.sk-toggleable__label-arrow:before {color: black;}#sk-container-id-1 div.sk-toggleable__content {max-height: 0;max-width: 0;overflow: hidden;text-align: left;background-color: #f0f8ff;}#sk-container-id-1 div.sk-toggleable__content pre {margin: 0.2em;color: black;border-radius: 0.25em;background-color: #f0f8ff;}#sk-container-id-1 input.sk-toggleable__control:checked~div.sk-toggleable__content {max-height: 200px;max-width: 100%;overflow: auto;}#sk-container-id-1 input.sk-toggleable__control:checked~label.sk-toggleable__label-arrow:before {content: \"▾\";}#sk-container-id-1 div.sk-estimator input.sk-toggleable__control:checked~label.sk-toggleable__label {background-color: #d4ebff;}#sk-container-id-1 div.sk-label input.sk-toggleable__control:checked~label.sk-toggleable__label {background-color: #d4ebff;}#sk-container-id-1 input.sk-hidden--visually {border: 0;clip: rect(1px 1px 1px 1px);clip: rect(1px, 1px, 1px, 1px);height: 1px;margin: -1px;overflow: hidden;padding: 0;position: absolute;width: 1px;}#sk-container-id-1 div.sk-estimator {font-family: monospace;background-color: #f0f8ff;border: 1px dotted black;border-radius: 0.25em;box-sizing: border-box;margin-bottom: 0.5em;}#sk-container-id-1 div.sk-estimator:hover {background-color: #d4ebff;}#sk-container-id-1 div.sk-parallel-item::after {content: \"\";width: 100%;border-bottom: 1px solid gray;flex-grow: 1;}#sk-container-id-1 div.sk-label:hover label.sk-toggleable__label {background-color: #d4ebff;}#sk-container-id-1 div.sk-serial::before {content: \"\";position: absolute;border-left: 1px solid gray;box-sizing: border-box;top: 0;bottom: 0;left: 50%;z-index: 0;}#sk-container-id-1 div.sk-serial {display: flex;flex-direction: column;align-items: center;background-color: white;padding-right: 0.2em;padding-left: 0.2em;position: relative;}#sk-container-id-1 div.sk-item {position: relative;z-index: 1;}#sk-container-id-1 div.sk-parallel {display: flex;align-items: stretch;justify-content: center;background-color: white;position: relative;}#sk-container-id-1 div.sk-item::before, #sk-container-id-1 div.sk-parallel-item::before {content: \"\";position: absolute;border-left: 1px solid gray;box-sizing: border-box;top: 0;bottom: 0;left: 50%;z-index: -1;}#sk-container-id-1 div.sk-parallel-item {display: flex;flex-direction: column;z-index: 1;position: relative;background-color: white;}#sk-container-id-1 div.sk-parallel-item:first-child::after {align-self: flex-end;width: 50%;}#sk-container-id-1 div.sk-parallel-item:last-child::after {align-self: flex-start;width: 50%;}#sk-container-id-1 div.sk-parallel-item:only-child::after {width: 0;}#sk-container-id-1 div.sk-dashed-wrapped {border: 1px dashed gray;margin: 0 0.4em 0.5em 0.4em;box-sizing: border-box;padding-bottom: 0.4em;background-color: white;}#sk-container-id-1 div.sk-label label {font-family: monospace;font-weight: bold;display: inline-block;line-height: 1.2em;}#sk-container-id-1 div.sk-label-container {text-align: center;}#sk-container-id-1 div.sk-container {/* jupyter's `normalize.less` sets `[hidden] { display: none; }` but bootstrap.min.css set `[hidden] { display: none !important; }` so we also need the `!important` here to be able to override the default hidden behavior on the sphinx rendered scikit-learn.org. See: https://github.com/scikit-learn/scikit-learn/issues/21755 */display: inline-block !important;position: relative;}#sk-container-id-1 div.sk-text-repr-fallback {display: none;}</style><div id=\"sk-container-id-1\" class=\"sk-top-container\"><div class=\"sk-text-repr-fallback\"><pre>LabelEncoder()</pre><b>In a Jupyter environment, please rerun this cell to show the HTML representation or trust the notebook. <br />On GitHub, the HTML representation is unable to render, please try loading this page with nbviewer.org.</b></div><div class=\"sk-container\" hidden><div class=\"sk-item\"><div class=\"sk-estimator sk-toggleable\"><input class=\"sk-toggleable__control sk-hidden--visually\" id=\"sk-estimator-id-1\" type=\"checkbox\" checked><label for=\"sk-estimator-id-1\" class=\"sk-toggleable__label sk-toggleable__label-arrow\">LabelEncoder</label><div class=\"sk-toggleable__content\"><pre>LabelEncoder()</pre></div></div></div></div></div>"
      ],
      "text/plain": [
       "LabelEncoder()"
      ]
     },
     "execution_count": 2,
     "metadata": {},
     "output_type": "execute_result"
    }
   ],
   "source": [
    "# Set up the label encoder for consistency in target labels\n",
    "le = LabelEncoder()\n",
    "labels = ['Benign', 'DDoS', 'Reconnaissance', 'Brute Force', 'password', 'xss', 'Backdoor']\n",
    "le.fit(labels)"
   ]
  },
  {
   "cell_type": "code",
   "execution_count": 3,
   "metadata": {},
   "outputs": [],
   "source": [
    "class NFUQNIDS(Dataset):\n",
    "    def __init__(self, attacks, use_synthetic):\n",
    "        self.data = pd.DataFrame()\n",
    "\n",
    "        for attack in attacks:\n",
    "            temp = pd.read_csv(f'data/reduced/attacks/NF-UQ-NIDS-ATTACKS-{str.upper(attack)}.csv')\n",
    "            if self.data.empty:\n",
    "                self.data = temp.copy()\n",
    "            else:\n",
    "                self.data = pd.concat([self.data, temp], ignore_index=True)\n",
    "\n",
    "        if use_synthetic:\n",
    "            for attack in attacks:\n",
    "                if os.path.exists(f'data/synthetic/NF-UQ-NIDS-ATTACKS-{str.upper(attack)}-SYNTHETIC.csv'):\n",
    "                    temp = pd.read_csv(f'data/synthetic/NF-UQ-NIDS-ATTACKS-{str.upper(attack)}-SYNTHETIC.csv')\n",
    "                    if self.data.empty:\n",
    "                        self.data = temp.copy()\n",
    "                    else:\n",
    "                        self.data = pd.concat([self.data, temp], ignore_index=True)\n",
    "\n",
    "        # Attack type as target label\n",
    "        self.labels = self.data['Attack']\n",
    "        self.labels = le.transform(self.labels)\n",
    "\n",
    "        self.data.drop({'Attack', 'Label'}, axis=1, inplace=True, errors='ignore')\n",
    "\n",
    "        self.data = self.data.values\n",
    "\n",
    "        print(self.data)\n",
    "        print(self.labels)\n",
    "\n",
    "    def __len__(self):\n",
    "        return len(self.labels)\n",
    "\n",
    "    def __getitem__(self, idx):\n",
    "        features = torch.tensor(self.data[idx], dtype=torch.float32, device=device)\n",
    "        label = torch.tensor(self.labels[idx], dtype=torch.float32, device=device)\n",
    "        label = label.type(torch.LongTensor).to(device)\n",
    "\n",
    "        return features, label"
   ]
  },
  {
   "cell_type": "code",
   "execution_count": 4,
   "metadata": {},
   "outputs": [
    {
     "name": "stdout",
     "output_type": "stream",
     "text": [
      "[[5.7966e+04 8.0000e+01 6.0000e+00 ... 0.0000e+00 1.0000e+00 1.0000e+00]\n",
      " [5.8024e+04 8.0000e+01 6.0000e+00 ... 0.0000e+00 1.0000e+00 1.0000e+00]\n",
      " [3.3420e+04 8.0000e+01 6.0000e+00 ... 0.0000e+00 1.0000e+00 1.0000e+00]\n",
      " ...\n",
      " [6.4202e+04 8.0000e+01 6.0000e+00 ... 0.0000e+00 0.0000e+00 1.0000e+00]\n",
      " [6.0902e+04 8.0000e+01 6.0000e+00 ... 1.0000e+00 1.0000e+00 0.0000e+00]\n",
      " [4.5930e+04 8.0000e+01 6.0000e+00 ... 0.0000e+00 1.0000e+00 1.0000e+00]]\n",
      "[5 5 5 ... 3 3 3]\n",
      "[[5.7966e+04 8.0000e+01 6.0000e+00 ... 0.0000e+00 1.0000e+00 1.0000e+00]\n",
      " [5.8024e+04 8.0000e+01 6.0000e+00 ... 0.0000e+00 1.0000e+00 1.0000e+00]\n",
      " [3.3420e+04 8.0000e+01 6.0000e+00 ... 0.0000e+00 1.0000e+00 1.0000e+00]\n",
      " ...\n",
      " [5.1281e+04 8.0000e+01 1.7000e+01 ... 0.0000e+00 0.0000e+00 0.0000e+00]\n",
      " [5.1372e+04 8.0800e+03 1.7000e+01 ... 0.0000e+00 0.0000e+00 1.0000e+00]\n",
      " [5.1281e+04 0.0000e+00 6.0000e+00 ... 0.0000e+00 0.0000e+00 1.0000e+00]]\n",
      "[5 5 5 ... 0 0 0]\n"
     ]
    }
   ],
   "source": [
    "# Real attack data\n",
    "real_attack_data = NFUQNIDS({'DDoS', 'Reconnaissance', 'Brute Force', 'Password', 'XSS', 'Backdoor'}, use_synthetic=False)\n",
    "\n",
    "train_size = int(0.9 * len(real_attack_data))\n",
    "val_size = len(real_attack_data) - train_size\n",
    "real_train_dataset, real_val_dataset = torch.utils.data.random_split(real_attack_data, [train_size, val_size])\n",
    "\n",
    "# Synthetic attack data\n",
    "synth_attack_data = NFUQNIDS({'DDoS', 'Reconnaissance', 'Brute Force', 'Password', 'XSS', 'Backdoor'}, use_synthetic=True)\n",
    "\n",
    "train_size = int(0.9 * len(synth_attack_data))\n",
    "val_size = len(synth_attack_data) - train_size\n",
    "synth_train_dataset, synth_val_dataset = torch.utils.data.random_split(synth_attack_data, [train_size, val_size])"
   ]
  },
  {
   "cell_type": "code",
   "execution_count": 5,
   "metadata": {},
   "outputs": [],
   "source": [
    "batch_size = 4096\n",
    "\n",
    "real_train = DataLoader(real_train_dataset, batch_size=batch_size, shuffle=True)\n",
    "real_val = DataLoader(real_val_dataset, batch_size=batch_size, shuffle=True)\n",
    "\n",
    "synth_train = DataLoader(synth_train_dataset, batch_size=batch_size, shuffle=True)\n",
    "synth_val = DataLoader(synth_val_dataset, batch_size=batch_size, shuffle=True)\n",
    "\n",
    "del real_train_dataset\n",
    "del real_val_dataset\n",
    "del synth_train_dataset\n",
    "del synth_val_dataset"
   ]
  },
  {
   "cell_type": "markdown",
   "metadata": {},
   "source": [
    "# Model Definition"
   ]
  },
  {
   "cell_type": "code",
   "execution_count": 6,
   "metadata": {},
   "outputs": [],
   "source": [
    "# Model hyperparameters\n",
    "input_dim = 74\n",
    "hidden_dim = input_dim*2\n",
    "num_classes = len(labels)\n",
    "\n",
    "# Model definition\n",
    "class Classifier(nn.Module):\n",
    "    def __init__(self, input_dim, hidden_dim, num_classes):\n",
    "        super(Classifier, self).__init__()\n",
    "        self.fc1 = nn.Linear(input_dim, hidden_dim)\n",
    "        self.relu = nn.ReLU()\n",
    "        self.fc2 = nn.Linear(hidden_dim, hidden_dim)\n",
    "        self.relu = nn.ReLU()\n",
    "        self.fc3 = nn.Linear(hidden_dim, num_classes)\n",
    "    \n",
    "    def forward(self, x):\n",
    "        x = self.fc1(x)\n",
    "        x = self.relu(x)\n",
    "        x = self.fc2(x)\n",
    "        x = self.relu(x)\n",
    "        x = self.fc3(x)\n",
    "        return x"
   ]
  },
  {
   "cell_type": "markdown",
   "metadata": {},
   "source": [
    "# Model Training"
   ]
  },
  {
   "cell_type": "code",
   "execution_count": 7,
   "metadata": {},
   "outputs": [
    {
     "name": "stderr",
     "output_type": "stream",
     "text": [
      "  0%|          | 0/100 [00:00<?, ?it/s]"
     ]
    },
    {
     "name": "stderr",
     "output_type": "stream",
     "text": [
      " 10%|█         | 10/100 [01:03<09:32,  6.36s/it]"
     ]
    },
    {
     "name": "stdout",
     "output_type": "stream",
     "text": [
      "Epoch [10/100], Train Loss: 353.9636, Validation Loss: 42.1130, Real Loss: 51.8657\n"
     ]
    },
    {
     "name": "stderr",
     "output_type": "stream",
     "text": [
      " 20%|██        | 20/100 [02:06<08:23,  6.30s/it]"
     ]
    },
    {
     "name": "stdout",
     "output_type": "stream",
     "text": [
      "Epoch [20/100], Train Loss: 162.6217, Validation Loss: 24.1594, Real Loss: 39.8650\n"
     ]
    },
    {
     "name": "stderr",
     "output_type": "stream",
     "text": [
      " 30%|███       | 30/100 [03:09<07:20,  6.29s/it]"
     ]
    },
    {
     "name": "stdout",
     "output_type": "stream",
     "text": [
      "Epoch [30/100], Train Loss: 56.2691, Validation Loss: 11.2332, Real Loss: 8.1701\n"
     ]
    },
    {
     "name": "stderr",
     "output_type": "stream",
     "text": [
      " 40%|████      | 40/100 [04:13<06:21,  6.36s/it]"
     ]
    },
    {
     "name": "stdout",
     "output_type": "stream",
     "text": [
      "Epoch [40/100], Train Loss: 74.4997, Validation Loss: 5.3823, Real Loss: 12.8628\n"
     ]
    },
    {
     "name": "stderr",
     "output_type": "stream",
     "text": [
      " 50%|█████     | 50/100 [05:15<05:12,  6.25s/it]"
     ]
    },
    {
     "name": "stdout",
     "output_type": "stream",
     "text": [
      "Epoch [50/100], Train Loss: 20.3512, Validation Loss: 1.1083, Real Loss: 0.9343\n"
     ]
    },
    {
     "name": "stderr",
     "output_type": "stream",
     "text": [
      " 60%|██████    | 60/100 [06:18<04:11,  6.29s/it]"
     ]
    },
    {
     "name": "stdout",
     "output_type": "stream",
     "text": [
      "Epoch [60/100], Train Loss: 26.1173, Validation Loss: 1.9456, Real Loss: 3.5575\n"
     ]
    },
    {
     "name": "stderr",
     "output_type": "stream",
     "text": [
      " 70%|███████   | 70/100 [07:21<03:09,  6.31s/it]"
     ]
    },
    {
     "name": "stdout",
     "output_type": "stream",
     "text": [
      "Epoch [70/100], Train Loss: 14.5428, Validation Loss: 3.1104, Real Loss: 3.0819\n"
     ]
    },
    {
     "name": "stderr",
     "output_type": "stream",
     "text": [
      " 80%|████████  | 80/100 [08:24<02:06,  6.32s/it]"
     ]
    },
    {
     "name": "stdout",
     "output_type": "stream",
     "text": [
      "Epoch [80/100], Train Loss: 11.0639, Validation Loss: 2.0445, Real Loss: 1.9552\n"
     ]
    },
    {
     "name": "stderr",
     "output_type": "stream",
     "text": [
      " 90%|█████████ | 90/100 [09:27<01:02,  6.29s/it]"
     ]
    },
    {
     "name": "stdout",
     "output_type": "stream",
     "text": [
      "Epoch [90/100], Train Loss: 12.1711, Validation Loss: 1.5692, Real Loss: 1.5821\n"
     ]
    },
    {
     "name": "stderr",
     "output_type": "stream",
     "text": [
      "100%|██████████| 100/100 [10:30<00:00,  6.31s/it]"
     ]
    },
    {
     "name": "stdout",
     "output_type": "stream",
     "text": [
      "Epoch [100/100], Train Loss: 0.7778, Validation Loss: 0.1592, Real Loss: 0.2684\n"
     ]
    },
    {
     "name": "stderr",
     "output_type": "stream",
     "text": [
      "\n"
     ]
    }
   ],
   "source": [
    "# Train the synthetic model\n",
    "synth_model = Classifier(input_dim, hidden_dim, num_classes).to(device)\n",
    "\n",
    "# Optimizer\n",
    "criterion = nn.CrossEntropyLoss()\n",
    "optimizer = optim.Adam(synth_model.parameters(), lr=0.001)\n",
    "\n",
    "num_epochs = 100\n",
    "\n",
    "# Lists to store the loss values for training and validation sets\n",
    "synth_train_loss_list = []\n",
    "synth_val_loss_list = []\n",
    "synth_real_loss_list = []\n",
    "\n",
    "for epoch in tqdm(range(num_epochs)):\n",
    "    cumulative_train_loss = 0\n",
    "    cumulative_val_loss = 0\n",
    "    cumulative_real_loss = 0\n",
    "\n",
    "    for inputs, labels in synth_train:\n",
    "        # Calculate training output and loss\n",
    "        train_outputs = synth_model(inputs)\n",
    "        train_loss = criterion(train_outputs, labels)\n",
    "\n",
    "        cumulative_train_loss = cumulative_train_loss + train_loss\n",
    "\n",
    "        optimizer.zero_grad()\n",
    "        train_loss.backward()\n",
    "        optimizer.step()\n",
    "        \n",
    "    # Calculate training loss this epoch\n",
    "    cumulative_train_loss = cumulative_train_loss.item() / (len(synth_train))\n",
    "    synth_train_loss_list.append(cumulative_train_loss)\n",
    "\n",
    "    synth_model.eval()\n",
    "    with torch.no_grad():\n",
    "        for inputs, labels in synth_val:\n",
    "            # Calculate training output and loss\n",
    "            val_outputs = synth_model(inputs)\n",
    "            val_loss = criterion(val_outputs, labels)\n",
    "\n",
    "        cumulative_val_loss = cumulative_val_loss + val_loss\n",
    "\n",
    "        for inputs, labels in real_val:\n",
    "            # Calculate training output and loss\n",
    "            real_outputs = synth_model(inputs)\n",
    "            real_loss = criterion(real_outputs, labels)\n",
    "\n",
    "        cumulative_real_loss = cumulative_real_loss + real_loss\n",
    "    \n",
    "\n",
    "    # Calculate val loss this epoch\n",
    "    cumulative_val_loss = cumulative_val_loss.item() / (len(synth_val))\n",
    "    synth_val_loss_list.append(cumulative_val_loss)\n",
    "\n",
    "    # Calculate real loss this epoch\n",
    "    cumulative_real_loss = cumulative_real_loss.item() / (len(real_val))\n",
    "    synth_real_loss_list.append(cumulative_real_loss)\n",
    "\n",
    "    if(((epoch+1) % 10) == 0):\n",
    "        print(f'Epoch [{epoch+1}/{num_epochs}], Train Loss: {(cumulative_train_loss):.4f}, Validation Loss: {(cumulative_val_loss):.4f}, Real Loss: {(cumulative_real_loss):.4f}')"
   ]
  },
  {
   "cell_type": "code",
   "execution_count": 8,
   "metadata": {},
   "outputs": [
    {
     "name": "stderr",
     "output_type": "stream",
     "text": [
      " 10%|█         | 10/100 [00:52<07:48,  5.21s/it]"
     ]
    },
    {
     "name": "stdout",
     "output_type": "stream",
     "text": [
      "Epoch [10/100], Train Loss: 458.2023, Validation Loss: 91.4345\n"
     ]
    },
    {
     "name": "stderr",
     "output_type": "stream",
     "text": [
      " 20%|██        | 20/100 [01:44<06:57,  5.22s/it]"
     ]
    },
    {
     "name": "stdout",
     "output_type": "stream",
     "text": [
      "Epoch [20/100], Train Loss: 177.7819, Validation Loss: 37.9252\n"
     ]
    },
    {
     "name": "stderr",
     "output_type": "stream",
     "text": [
      " 30%|███       | 30/100 [02:36<06:06,  5.23s/it]"
     ]
    },
    {
     "name": "stdout",
     "output_type": "stream",
     "text": [
      "Epoch [30/100], Train Loss: 71.1822, Validation Loss: 4.7174\n"
     ]
    },
    {
     "name": "stderr",
     "output_type": "stream",
     "text": [
      " 40%|████      | 40/100 [03:28<05:12,  5.21s/it]"
     ]
    },
    {
     "name": "stdout",
     "output_type": "stream",
     "text": [
      "Epoch [40/100], Train Loss: 38.0775, Validation Loss: 1.6922\n"
     ]
    },
    {
     "name": "stderr",
     "output_type": "stream",
     "text": [
      " 50%|█████     | 50/100 [04:21<04:21,  5.23s/it]"
     ]
    },
    {
     "name": "stdout",
     "output_type": "stream",
     "text": [
      "Epoch [50/100], Train Loss: 34.0620, Validation Loss: 10.3923\n"
     ]
    },
    {
     "name": "stderr",
     "output_type": "stream",
     "text": [
      " 60%|██████    | 60/100 [05:13<03:28,  5.21s/it]"
     ]
    },
    {
     "name": "stdout",
     "output_type": "stream",
     "text": [
      "Epoch [60/100], Train Loss: 5.5462, Validation Loss: 1.7653\n"
     ]
    },
    {
     "name": "stderr",
     "output_type": "stream",
     "text": [
      " 70%|███████   | 70/100 [06:05<02:35,  5.18s/it]"
     ]
    },
    {
     "name": "stdout",
     "output_type": "stream",
     "text": [
      "Epoch [70/100], Train Loss: 1.9355, Validation Loss: 0.4831\n"
     ]
    },
    {
     "name": "stderr",
     "output_type": "stream",
     "text": [
      " 80%|████████  | 80/100 [06:57<01:44,  5.22s/it]"
     ]
    },
    {
     "name": "stdout",
     "output_type": "stream",
     "text": [
      "Epoch [80/100], Train Loss: 4.0424, Validation Loss: 0.4833\n"
     ]
    },
    {
     "name": "stderr",
     "output_type": "stream",
     "text": [
      " 90%|█████████ | 90/100 [07:49<00:52,  5.21s/it]"
     ]
    },
    {
     "name": "stdout",
     "output_type": "stream",
     "text": [
      "Epoch [90/100], Train Loss: 1.0110, Validation Loss: 0.1387\n"
     ]
    },
    {
     "name": "stderr",
     "output_type": "stream",
     "text": [
      "100%|██████████| 100/100 [08:41<00:00,  5.22s/it]"
     ]
    },
    {
     "name": "stdout",
     "output_type": "stream",
     "text": [
      "Epoch [100/100], Train Loss: 5.3638, Validation Loss: 0.7503\n"
     ]
    },
    {
     "name": "stderr",
     "output_type": "stream",
     "text": [
      "\n"
     ]
    }
   ],
   "source": [
    "# Train the real model\n",
    "real_model = Classifier(input_dim, hidden_dim, num_classes).to(device)\n",
    "\n",
    "# Optimizer\n",
    "criterion = nn.CrossEntropyLoss()\n",
    "optimizer = optim.Adam(real_model.parameters(), lr=0.001)\n",
    "\n",
    "num_epochs = 100\n",
    "\n",
    "# Lists to store the loss values for training and validation sets\n",
    "real_train_loss_list = []\n",
    "real_val_loss_list = []\n",
    "\n",
    "for epoch in tqdm(range(num_epochs)):\n",
    "    cumulative_train_loss = 0\n",
    "    cumulative_val_loss = 0\n",
    "\n",
    "    for inputs, labels in real_train:\n",
    "        # Calculate training output and loss\n",
    "        train_outputs = real_model(inputs)\n",
    "        train_loss = criterion(train_outputs, labels)\n",
    "\n",
    "        cumulative_train_loss = cumulative_train_loss + train_loss\n",
    "\n",
    "        optimizer.zero_grad()\n",
    "        train_loss.backward()\n",
    "        optimizer.step()\n",
    "        \n",
    "    # Calculate training loss this epoch\n",
    "    cumulative_train_loss = cumulative_train_loss.item() / (len(real_train))\n",
    "    real_train_loss_list.append(cumulative_train_loss)\n",
    "\n",
    "    real_model.eval()\n",
    "    with torch.no_grad():\n",
    "        for inputs, labels in real_val:\n",
    "            # Calculate training output and loss\n",
    "            val_outputs = real_model(inputs)\n",
    "            val_loss = criterion(val_outputs, labels)\n",
    "\n",
    "        cumulative_val_loss = cumulative_val_loss + val_loss\n",
    "        \n",
    "    # Calculate val loss this epoch\n",
    "    cumulative_val_loss = cumulative_val_loss.item() / (len(real_val))\n",
    "    real_val_loss_list.append(cumulative_val_loss)\n",
    "\n",
    "    if(((epoch+1) % 10) == 0):\n",
    "        print(f'Epoch [{epoch+1}/{num_epochs}], Train Loss: {(cumulative_train_loss):.4f}, Validation Loss: {(cumulative_val_loss):.4f}')"
   ]
  },
  {
   "cell_type": "code",
   "execution_count": 9,
   "metadata": {},
   "outputs": [
    {
     "data": {
      "image/png": "[encoded data removed]",
      "text/plain": [
       "<Figure size 640x480 with 1 Axes>"
      ]
     },
     "metadata": {},
     "output_type": "display_data"
    }
   ],
   "source": [
    "# Plot the synthetic loss curve\n",
    "plt.plot(synth_train_loss_list, label=\"train\")\n",
    "plt.plot(synth_val_loss_list, label=\"validation\")\n",
    "plt.plot(synth_real_loss_list, label=\"real data\")\n",
    "plt.title(\"Synthetic Data Training Loss Curve\")\n",
    "plt.xlabel(\"Epochs\")\n",
    "plt.ylabel(\"Loss\")\n",
    "plt.legend()\n",
    "plt.show()"
   ]
  },
  {
   "cell_type": "code",
   "execution_count": 10,
   "metadata": {},
   "outputs": [
    {
     "data": {
      "image/png": "[encoded data removed]",
      "text/plain": [
       "<Figure size 640x480 with 1 Axes>"
      ]
     },
     "metadata": {},
     "output_type": "display_data"
    }
   ],
   "source": [
    "# Plot the real loss curve\n",
    "plt.plot(real_train_loss_list, label=\"train\")\n",
    "plt.plot(real_val_loss_list, label=\"validation\")\n",
    "plt.title(\"Real Data Training Loss Curve\")\n",
    "plt.xlabel(\"Epochs\")\n",
    "plt.ylabel(\"Loss\")\n",
    "plt.legend()\n",
    "plt.show()"
   ]
  },
  {
   "cell_type": "code",
   "execution_count": 11,
   "metadata": {},
   "outputs": [],
   "source": [
    "# Save the models\n",
    "torch.save(synth_model.state_dict, 'models/synth_attack_classifier')\n",
    "torch.save(real_model.state_dict, 'models/real_attack_classifier')"
   ]
  },
  {
   "cell_type": "markdown",
   "metadata": {},
   "source": [
    "# Model Evaluation"
   ]
  },
  {
   "cell_type": "code",
   "execution_count": 12,
   "metadata": {},
   "outputs": [
    {
     "name": "stdout",
     "output_type": "stream",
     "text": [
      "Synthetic model accuracy: 0.8719357252120972\n",
      "Real model accuracy: 0.8282850980758667\n"
     ]
    }
   ],
   "source": [
    "# Evaluation\n",
    "synth_model.eval()\n",
    "real_model.eval()\n",
    "with torch.no_grad():\n",
    "    synth_metric = MulticlassAccuracy(num_classes=num_classes)\n",
    "    real_metric = MulticlassAccuracy(num_classes=num_classes)\n",
    "    synth_accuracy = 0\n",
    "    real_accuracy = 0\n",
    "    num = 0\n",
    "\n",
    "    for inputs, labels in real_val:\n",
    "        # Synth\n",
    "        synth_outputs = synth_model(inputs)\n",
    "        _, predicted = torch.max(synth_outputs, 1)\n",
    "        synth_metric.update(predicted, labels)\n",
    "        synth_accuracy = synth_accuracy + synth_metric.compute()\n",
    "\n",
    "        # Real\n",
    "        real_outputs = real_model(inputs)\n",
    "        _, predicted = torch.max(real_outputs, 1)\n",
    "        real_metric.update(predicted, labels)\n",
    "        real_accuracy = real_accuracy + real_metric.compute()\n",
    "\n",
    "        num = num + 1\n",
    "\n",
    "    synth_accuracy = synth_accuracy / num\n",
    "    real_accuracy = real_accuracy / num\n",
    "\n",
    "    print(f\"Synthetic model accuracy: {synth_accuracy}\")\n",
    "    print(f\"Real model accuracy: {real_accuracy}\")"
   ]
  }
 ],
 "metadata": {
  "kernelspec": {
   "display_name": "Python 3",
   "language": "python",
   "name": "python3"
  },
  "language_info": {
   "codemirror_mode": {
    "name": "ipython",
    "version": 3
   },
   "file_extension": ".py",
   "mimetype": "text/x-python",
   "name": "python",
   "nbconvert_exporter": "python",
   "pygments_lexer": "ipython3",
   "version": "3.10.6"
  }
 },
 "nbformat": 4,
 "nbformat_minor": 2
}
